{
 "cells": [
  {
   "cell_type": "markdown",
   "id": "78229379",
   "metadata": {},
   "source": [
    "## Além do PortScan, quais são as 5 ferramentas mais úteis para reconhecimento em um pentest?"
   ]
  },
  {
   "cell_type": "markdown",
   "id": "880e025b",
   "metadata": {},
   "source": [
    "Existem várias ferramentas fundamentais para a etapa de reconhecimento em um pentest, além do tradicional PortScan. Algumas das principais são:\n",
    "\n",
    "- Sistemas operacionais especializados: Quem trabalha com pentest normalmente utiliza distribuições específicas para isso. O mais conhecido é o Kali Linux, que já vem preparado com ferramentas essenciais como Nmap, Wireshark e Metasploit.\n",
    "\n",
    "- Verificadores de vulnerabilidades: Essas ferramentas fazem uma varredura em busca de vulnerabilidades conhecidas no sistema, agilizando a identificação de possíveis pontos de entrada. Alguns exemplos são o Nessus, o Core Impact e o Netsparker.\n",
    "\n",
    "- Verificadores de vulnerabilidades web: Dentro da categoria de verificadores, existem aqueles focados especificamente em aplicações web, como o Burp Suite e o OWASP ZAP, voltados para encontrar falhas em sites e sistemas web.\n",
    "\n",
    "- Analisadores de pacotes: Ferramentas como o Wireshark e o tcpdump permitem capturar e inspecionar pacotes de dados trafegando na rede, o que ajuda a entender melhor o comportamento e a origem dos dados.\n",
    "\n",
    "- Ferramentas de quebra de credenciais: Programas como o Medusa, Hydra, Hashcat e John the Ripper são usados para descobrir senhas, seja quebrando hashes ou usando ataques de força bruta para testar diversas combinações até acertar.\n",
    "\n",
    "- Também vale destacar o Metasploit, que é uma framework poderosa para pentest, permitindo automatizar explorações e facilitar bastante a execução de ataques controlados."
   ]
  },
  {
   "cell_type": "markdown",
   "id": "f910eef7",
   "metadata": {},
   "source": [
    "### Referencia: https://www.ibm.com/br-pt/topics/penetration-testing"
   ]
  },
  {
   "cell_type": "markdown",
   "id": "db91ffb5",
   "metadata": {},
   "source": [
    "### Qual a diferença entre um scanner de portas SYN e um TCP Connect Scan?"
   ]
  },
  {
   "cell_type": "markdown",
   "id": "2bb950ae",
   "metadata": {},
   "source": [
    "A principal diferença está no modo como a conexão é feita com a porta do alvo:\n",
    "\n",
    "- O TCP Connect Scan é o método padrão quando não temos permissão para criar pacotes \"raw\" ou estamos lidando com IPv6. Ele usa a chamada connect() do sistema operacional para tentar uma conexão completa, exatamente como navegadores e outros aplicativos fazem. Por ser uma conexão completa, gera mais tráfego e deixa mais rastros no sistema alvo, o que pode acabar registrando mais logs.\n",
    "\n",
    "- Já o SYN Scan (quando disponível) é mais rápido e discreto. Ele envia apenas um pacote SYN e analisa a resposta sem completar a conexão (caso receba um SYN-ACK, envia um RST em vez de terminar o handshake). Como não conclui a conexão, além de ser mais rápido, é menos provável que seja detectado ou que gere registros de log no sistema alvo."
   ]
  },
  {
   "cell_type": "markdown",
   "id": "6c43f761",
   "metadata": {},
   "source": [
    "### Referencia: https://nmap.org/man/pt_BR/man-port-scanning-techniques.html#:~:text=O%20scan%20TCP%20connect%20é,bruto%20ou%20escanear%20redes%20IPv6."
   ]
  },
  {
   "cell_type": "markdown",
   "id": "296f8b69",
   "metadata": {},
   "source": [
    "## Como um pentester pode evitar ser detectado por sistemas de prevenção de intrusão (IPS) durante o reconhecimento?"
   ]
  },
  {
   "cell_type": "markdown",
   "id": "90ac5c30",
   "metadata": {},
   "source": [
    "1. Scaneamento Direcionado\n",
    "Técnica:\n",
    "Realizar varreduras focadas em alvos específicos ou em um número muito reduzido de portas.\n",
    "\n",
    "Impacto na eficácia do scan:\n",
    "\n",
    "- Diminui o volume de tráfego gerado, reduzindo a chance de chamar atenção dos mecanismos de detecção do IPS.\n",
    "\n",
    "- Foca apenas nos serviços de interesse, como por exemplo, portas conhecidas por vulnerabilidades (ex.: TCP 443 para explorar falhas SSL como Heartbleed ou POODLE).\n",
    "\n",
    "- Torna o reconhecimento mais discreto, mas também pode deixar passar outros serviços que estariam vulneráveis em portas que não foram analisadas.\n",
    "\n",
    "2. Ocultação do IP de Origem\n",
    "Técnica:\n",
    "Utilizar proxies ou botnets para realizar os scans, mascarando o IP real do pentester.\n",
    "\n",
    "Impacto na eficácia do scan:\n",
    "\n",
    "- Protege a identidade do pentester, já que mesmo que o IP seja bloqueado, é possível rapidamente trocar para outro proxy ou botnet.\n",
    "\n",
    "- No entanto, o uso de proxies (como a rede Tor) pode impactar a velocidade e a estabilidade do scan, além de alguns IPs já serem monitorados por atividades suspeitas, o que pode gerar bloqueios antecipados.\n",
    "\n"
   ]
  },
  {
   "cell_type": "markdown",
   "id": "624471a2",
   "metadata": {},
   "source": [
    "### Referencia: https://www.tracesecurity.com/blog/articles/how-ids-and-ips-can-affect-external-penetration-testing"
   ]
  }
 ],
 "metadata": {
  "language_info": {
   "name": "python"
  }
 },
 "nbformat": 4,
 "nbformat_minor": 5
}
